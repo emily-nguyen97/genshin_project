{
  "nbformat": 4,
  "nbformat_minor": 0,
  "metadata": {
    "colab": {
      "provenance": []
    },
    "kernelspec": {
      "name": "python3",
      "display_name": "Python 3"
    },
    "language_info": {
      "name": "python"
    }
  },
  "cells": [
    {
      "cell_type": "code",
      "execution_count": null,
      "metadata": {
        "id": "Of7wizSGUp9y",
        "colab": {
          "base_uri": "https://localhost:8080/"
        },
        "outputId": "e3a44ffa-3d2b-48b2-8d4a-4dd7bfa7c1c1"
      },
      "outputs": [
        {
          "output_type": "stream",
          "name": "stdout",
          "text": [
            "Mounted at /content/drive\n"
          ]
        }
      ],
      "source": [
        "from google.colab import drive\n",
        "drive.mount('/content/drive')"
      ]
    },
    {
      "cell_type": "code",
      "source": [
        "import pandas as pd\n",
        "filename = '/content/drive/MyDrive/Genshin Data Project/genshin_data_raw_V3_7.csv'\n",
        "df = pd.read_csv(filename)\n",
        "df.tail()"
      ],
      "metadata": {
        "colab": {
          "base_uri": "https://localhost:8080/",
          "height": 206
        },
        "id": "Cu3o9tWqMS0Y",
        "outputId": "daac0343-75b5-4ad6-9784-a01f3ca8490a"
      },
      "execution_count": null,
      "outputs": [
        {
          "output_type": "execute_result",
          "data": {
            "text/plain": [
              "     Character     Playstyle  \\\n",
              "6342   ZHONGLI  REVERSE MELT   \n",
              "6343   ZHONGLI           NaN   \n",
              "6344   ZHONGLI           NaN   \n",
              "6345   ZHONGLI     MONO CRYO   \n",
              "6346   ZHONGLI           NaN   \n",
              "\n",
              "                                                  Title  \n",
              "6342  ABYSS 3.7 (2023-JUN) 12 RAIDEN YELAN XINGQIU J...  \n",
              "6343  3.7 ABYSS FLOOR 12   RAIDEN YAE KAZUHA BAIZHU ...  \n",
              "6344  SPIRAL ABYSS GENSHIN 3.7. ZHONGLI, KAZUHA, YAE...  \n",
              "6345  IT JUST WORKS | GANYU/SHENHE/KAZUHA/ZHONGLI | ...  \n",
              "6346  【原神】絶対に死なない男たちの深境螺旋【VER3.7螺旋12層】 / SPIRAL ABYS...  "
            ],
            "text/html": [
              "\n",
              "\n",
              "  <div id=\"df-e42e07a0-94c3-4f91-b86d-9e52529e8f97\">\n",
              "    <div class=\"colab-df-container\">\n",
              "      <div>\n",
              "<style scoped>\n",
              "    .dataframe tbody tr th:only-of-type {\n",
              "        vertical-align: middle;\n",
              "    }\n",
              "\n",
              "    .dataframe tbody tr th {\n",
              "        vertical-align: top;\n",
              "    }\n",
              "\n",
              "    .dataframe thead th {\n",
              "        text-align: right;\n",
              "    }\n",
              "</style>\n",
              "<table border=\"1\" class=\"dataframe\">\n",
              "  <thead>\n",
              "    <tr style=\"text-align: right;\">\n",
              "      <th></th>\n",
              "      <th>Character</th>\n",
              "      <th>Playstyle</th>\n",
              "      <th>Title</th>\n",
              "    </tr>\n",
              "  </thead>\n",
              "  <tbody>\n",
              "    <tr>\n",
              "      <th>6342</th>\n",
              "      <td>ZHONGLI</td>\n",
              "      <td>REVERSE MELT</td>\n",
              "      <td>ABYSS 3.7 (2023-JUN) 12 RAIDEN YELAN XINGQIU J...</td>\n",
              "    </tr>\n",
              "    <tr>\n",
              "      <th>6343</th>\n",
              "      <td>ZHONGLI</td>\n",
              "      <td>NaN</td>\n",
              "      <td>3.7 ABYSS FLOOR 12   RAIDEN YAE KAZUHA BAIZHU ...</td>\n",
              "    </tr>\n",
              "    <tr>\n",
              "      <th>6344</th>\n",
              "      <td>ZHONGLI</td>\n",
              "      <td>NaN</td>\n",
              "      <td>SPIRAL ABYSS GENSHIN 3.7. ZHONGLI, KAZUHA, YAE...</td>\n",
              "    </tr>\n",
              "    <tr>\n",
              "      <th>6345</th>\n",
              "      <td>ZHONGLI</td>\n",
              "      <td>MONO CRYO</td>\n",
              "      <td>IT JUST WORKS | GANYU/SHENHE/KAZUHA/ZHONGLI | ...</td>\n",
              "    </tr>\n",
              "    <tr>\n",
              "      <th>6346</th>\n",
              "      <td>ZHONGLI</td>\n",
              "      <td>NaN</td>\n",
              "      <td>【原神】絶対に死なない男たちの深境螺旋【VER3.7螺旋12層】 / SPIRAL ABYS...</td>\n",
              "    </tr>\n",
              "  </tbody>\n",
              "</table>\n",
              "</div>\n",
              "      <button class=\"colab-df-convert\" onclick=\"convertToInteractive('df-e42e07a0-94c3-4f91-b86d-9e52529e8f97')\"\n",
              "              title=\"Convert this dataframe to an interactive table.\"\n",
              "              style=\"display:none;\">\n",
              "\n",
              "  <svg xmlns=\"http://www.w3.org/2000/svg\" height=\"24px\"viewBox=\"0 0 24 24\"\n",
              "       width=\"24px\">\n",
              "    <path d=\"M0 0h24v24H0V0z\" fill=\"none\"/>\n",
              "    <path d=\"M18.56 5.44l.94 2.06.94-2.06 2.06-.94-2.06-.94-.94-2.06-.94 2.06-2.06.94zm-11 1L8.5 8.5l.94-2.06 2.06-.94-2.06-.94L8.5 2.5l-.94 2.06-2.06.94zm10 10l.94 2.06.94-2.06 2.06-.94-2.06-.94-.94-2.06-.94 2.06-2.06.94z\"/><path d=\"M17.41 7.96l-1.37-1.37c-.4-.4-.92-.59-1.43-.59-.52 0-1.04.2-1.43.59L10.3 9.45l-7.72 7.72c-.78.78-.78 2.05 0 2.83L4 21.41c.39.39.9.59 1.41.59.51 0 1.02-.2 1.41-.59l7.78-7.78 2.81-2.81c.8-.78.8-2.07 0-2.86zM5.41 20L4 18.59l7.72-7.72 1.47 1.35L5.41 20z\"/>\n",
              "  </svg>\n",
              "      </button>\n",
              "\n",
              "\n",
              "\n",
              "    <div id=\"df-775f7905-73bb-4265-8f09-7efc1bb670e5\">\n",
              "      <button class=\"colab-df-quickchart\" onclick=\"quickchart('df-775f7905-73bb-4265-8f09-7efc1bb670e5')\"\n",
              "              title=\"Suggest charts.\"\n",
              "              style=\"display:none;\">\n",
              "\n",
              "<svg xmlns=\"http://www.w3.org/2000/svg\" height=\"24px\"viewBox=\"0 0 24 24\"\n",
              "     width=\"24px\">\n",
              "    <g>\n",
              "        <path d=\"M19 3H5c-1.1 0-2 .9-2 2v14c0 1.1.9 2 2 2h14c1.1 0 2-.9 2-2V5c0-1.1-.9-2-2-2zM9 17H7v-7h2v7zm4 0h-2V7h2v10zm4 0h-2v-4h2v4z\"/>\n",
              "    </g>\n",
              "</svg>\n",
              "      </button>\n",
              "    </div>\n",
              "\n",
              "<style>\n",
              "  .colab-df-quickchart {\n",
              "    background-color: #E8F0FE;\n",
              "    border: none;\n",
              "    border-radius: 50%;\n",
              "    cursor: pointer;\n",
              "    display: none;\n",
              "    fill: #1967D2;\n",
              "    height: 32px;\n",
              "    padding: 0 0 0 0;\n",
              "    width: 32px;\n",
              "  }\n",
              "\n",
              "  .colab-df-quickchart:hover {\n",
              "    background-color: #E2EBFA;\n",
              "    box-shadow: 0px 1px 2px rgba(60, 64, 67, 0.3), 0px 1px 3px 1px rgba(60, 64, 67, 0.15);\n",
              "    fill: #174EA6;\n",
              "  }\n",
              "\n",
              "  [theme=dark] .colab-df-quickchart {\n",
              "    background-color: #3B4455;\n",
              "    fill: #D2E3FC;\n",
              "  }\n",
              "\n",
              "  [theme=dark] .colab-df-quickchart:hover {\n",
              "    background-color: #434B5C;\n",
              "    box-shadow: 0px 1px 3px 1px rgba(0, 0, 0, 0.15);\n",
              "    filter: drop-shadow(0px 1px 2px rgba(0, 0, 0, 0.3));\n",
              "    fill: #FFFFFF;\n",
              "  }\n",
              "</style>\n",
              "\n",
              "    <script>\n",
              "      async function quickchart(key) {\n",
              "        const containerElement = document.querySelector('#' + key);\n",
              "        const charts = await google.colab.kernel.invokeFunction(\n",
              "            'suggestCharts', [key], {});\n",
              "      }\n",
              "    </script>\n",
              "\n",
              "      <script>\n",
              "\n",
              "function displayQuickchartButton(domScope) {\n",
              "  let quickchartButtonEl =\n",
              "    domScope.querySelector('#df-775f7905-73bb-4265-8f09-7efc1bb670e5 button.colab-df-quickchart');\n",
              "  quickchartButtonEl.style.display =\n",
              "    google.colab.kernel.accessAllowed ? 'block' : 'none';\n",
              "}\n",
              "\n",
              "        displayQuickchartButton(document);\n",
              "      </script>\n",
              "      <style>\n",
              "    .colab-df-container {\n",
              "      display:flex;\n",
              "      flex-wrap:wrap;\n",
              "      gap: 12px;\n",
              "    }\n",
              "\n",
              "    .colab-df-convert {\n",
              "      background-color: #E8F0FE;\n",
              "      border: none;\n",
              "      border-radius: 50%;\n",
              "      cursor: pointer;\n",
              "      display: none;\n",
              "      fill: #1967D2;\n",
              "      height: 32px;\n",
              "      padding: 0 0 0 0;\n",
              "      width: 32px;\n",
              "    }\n",
              "\n",
              "    .colab-df-convert:hover {\n",
              "      background-color: #E2EBFA;\n",
              "      box-shadow: 0px 1px 2px rgba(60, 64, 67, 0.3), 0px 1px 3px 1px rgba(60, 64, 67, 0.15);\n",
              "      fill: #174EA6;\n",
              "    }\n",
              "\n",
              "    [theme=dark] .colab-df-convert {\n",
              "      background-color: #3B4455;\n",
              "      fill: #D2E3FC;\n",
              "    }\n",
              "\n",
              "    [theme=dark] .colab-df-convert:hover {\n",
              "      background-color: #434B5C;\n",
              "      box-shadow: 0px 1px 3px 1px rgba(0, 0, 0, 0.15);\n",
              "      filter: drop-shadow(0px 1px 2px rgba(0, 0, 0, 0.3));\n",
              "      fill: #FFFFFF;\n",
              "    }\n",
              "  </style>\n",
              "\n",
              "      <script>\n",
              "        const buttonEl =\n",
              "          document.querySelector('#df-e42e07a0-94c3-4f91-b86d-9e52529e8f97 button.colab-df-convert');\n",
              "        buttonEl.style.display =\n",
              "          google.colab.kernel.accessAllowed ? 'block' : 'none';\n",
              "\n",
              "        async function convertToInteractive(key) {\n",
              "          const element = document.querySelector('#df-e42e07a0-94c3-4f91-b86d-9e52529e8f97');\n",
              "          const dataTable =\n",
              "            await google.colab.kernel.invokeFunction('convertToInteractive',\n",
              "                                                     [key], {});\n",
              "          if (!dataTable) return;\n",
              "\n",
              "          const docLinkHtml = 'Like what you see? Visit the ' +\n",
              "            '<a target=\"_blank\" href=https://colab.research.google.com/notebooks/data_table.ipynb>data table notebook</a>'\n",
              "            + ' to learn more about interactive tables.';\n",
              "          element.innerHTML = '';\n",
              "          dataTable['output_type'] = 'display_data';\n",
              "          await google.colab.output.renderOutput(dataTable, element);\n",
              "          const docLink = document.createElement('div');\n",
              "          docLink.innerHTML = docLinkHtml;\n",
              "          element.appendChild(docLink);\n",
              "        }\n",
              "      </script>\n",
              "    </div>\n",
              "  </div>\n"
            ]
          },
          "metadata": {},
          "execution_count": 110
        }
      ]
    },
    {
      "cell_type": "code",
      "source": [
        "# Check which columns have null values and how many there are\n",
        "df.isnull().sum()"
      ],
      "metadata": {
        "colab": {
          "base_uri": "https://localhost:8080/"
        },
        "id": "coUqgFTCKIUV",
        "outputId": "78f6befb-b26c-4429-f4cd-22cc71f8277c"
      },
      "execution_count": null,
      "outputs": [
        {
          "output_type": "execute_result",
          "data": {
            "text/plain": [
              "Character       0\n",
              "Playstyle    1102\n",
              "Title           0\n",
              "dtype: int64"
            ]
          },
          "metadata": {},
          "execution_count": 111
        }
      ]
    },
    {
      "cell_type": "code",
      "source": [
        "# Drop duplicates\n",
        "df = df.drop_duplicates()"
      ],
      "metadata": {
        "id": "bc4ZFjLBKy6y"
      },
      "execution_count": null,
      "outputs": []
    },
    {
      "cell_type": "code",
      "source": [
        "df['Playstyle'].describe()"
      ],
      "metadata": {
        "colab": {
          "base_uri": "https://localhost:8080/"
        },
        "id": "0knkgy3YLGlH",
        "outputId": "689efe2a-acec-4216-d661-2ecdbcecda89"
      },
      "execution_count": null,
      "outputs": [
        {
          "output_type": "execute_result",
          "data": {
            "text/plain": [
              "count          4822\n",
              "unique          137\n",
              "top       AGGRAVATE\n",
              "freq            570\n",
              "Name: Playstyle, dtype: object"
            ]
          },
          "metadata": {},
          "execution_count": 113
        }
      ]
    },
    {
      "cell_type": "code",
      "source": [
        "df['Character'].describe()"
      ],
      "metadata": {
        "colab": {
          "base_uri": "https://localhost:8080/"
        },
        "id": "XyJSynLsLM6j",
        "outputId": "30094fd6-c758-4b7e-c0b5-fd9efe8d5c91"
      },
      "execution_count": null,
      "outputs": [
        {
          "output_type": "execute_result",
          "data": {
            "text/plain": [
              "count      5825\n",
              "unique       70\n",
              "top       AYAKA\n",
              "freq        395\n",
              "Name: Character, dtype: object"
            ]
          },
          "metadata": {},
          "execution_count": 114
        }
      ]
    },
    {
      "cell_type": "code",
      "source": [
        "df['Character'] = df['Character'].str.title()\n",
        "df['Playstyle'] = df['Playstyle'].str.lower()\n",
        "df['Title'] = df['Title'].str.lower()\n",
        "df.head()"
      ],
      "metadata": {
        "colab": {
          "base_uri": "https://localhost:8080/",
          "height": 206
        },
        "id": "YpyZamsCLiml",
        "outputId": "aff2b359-4a02-4af9-fcba-596014cd5f09"
      },
      "execution_count": null,
      "outputs": [
        {
          "output_type": "execute_result",
          "data": {
            "text/plain": [
              "  Character Playstyle                                              Title\n",
              "0    Albedo       afk  albedo afk team - 3.7 spiral abyss fl 12 | gen...\n",
              "1    Albedo   support  (f2p) c0 xiao albedo hyper &amp; c0 cyno quick...\n",
              "2    Albedo   burgeon  kokomi electro charged and nahida burgeon with...\n",
              "3    Albedo       afk  albedo afk team and kazuha vaporize on spiral ...\n",
              "4    Albedo  mono geo  spiral abyss 3.7 | floor 12-2-1 | jadeplume te..."
            ],
            "text/html": [
              "\n",
              "\n",
              "  <div id=\"df-460e7d4c-474a-4b4f-a3ae-310b67a8ed8c\">\n",
              "    <div class=\"colab-df-container\">\n",
              "      <div>\n",
              "<style scoped>\n",
              "    .dataframe tbody tr th:only-of-type {\n",
              "        vertical-align: middle;\n",
              "    }\n",
              "\n",
              "    .dataframe tbody tr th {\n",
              "        vertical-align: top;\n",
              "    }\n",
              "\n",
              "    .dataframe thead th {\n",
              "        text-align: right;\n",
              "    }\n",
              "</style>\n",
              "<table border=\"1\" class=\"dataframe\">\n",
              "  <thead>\n",
              "    <tr style=\"text-align: right;\">\n",
              "      <th></th>\n",
              "      <th>Character</th>\n",
              "      <th>Playstyle</th>\n",
              "      <th>Title</th>\n",
              "    </tr>\n",
              "  </thead>\n",
              "  <tbody>\n",
              "    <tr>\n",
              "      <th>0</th>\n",
              "      <td>Albedo</td>\n",
              "      <td>afk</td>\n",
              "      <td>albedo afk team - 3.7 spiral abyss fl 12 | gen...</td>\n",
              "    </tr>\n",
              "    <tr>\n",
              "      <th>1</th>\n",
              "      <td>Albedo</td>\n",
              "      <td>support</td>\n",
              "      <td>(f2p) c0 xiao albedo hyper &amp;amp; c0 cyno quick...</td>\n",
              "    </tr>\n",
              "    <tr>\n",
              "      <th>2</th>\n",
              "      <td>Albedo</td>\n",
              "      <td>burgeon</td>\n",
              "      <td>kokomi electro charged and nahida burgeon with...</td>\n",
              "    </tr>\n",
              "    <tr>\n",
              "      <th>3</th>\n",
              "      <td>Albedo</td>\n",
              "      <td>afk</td>\n",
              "      <td>albedo afk team and kazuha vaporize on spiral ...</td>\n",
              "    </tr>\n",
              "    <tr>\n",
              "      <th>4</th>\n",
              "      <td>Albedo</td>\n",
              "      <td>mono geo</td>\n",
              "      <td>spiral abyss 3.7 | floor 12-2-1 | jadeplume te...</td>\n",
              "    </tr>\n",
              "  </tbody>\n",
              "</table>\n",
              "</div>\n",
              "      <button class=\"colab-df-convert\" onclick=\"convertToInteractive('df-460e7d4c-474a-4b4f-a3ae-310b67a8ed8c')\"\n",
              "              title=\"Convert this dataframe to an interactive table.\"\n",
              "              style=\"display:none;\">\n",
              "\n",
              "  <svg xmlns=\"http://www.w3.org/2000/svg\" height=\"24px\"viewBox=\"0 0 24 24\"\n",
              "       width=\"24px\">\n",
              "    <path d=\"M0 0h24v24H0V0z\" fill=\"none\"/>\n",
              "    <path d=\"M18.56 5.44l.94 2.06.94-2.06 2.06-.94-2.06-.94-.94-2.06-.94 2.06-2.06.94zm-11 1L8.5 8.5l.94-2.06 2.06-.94-2.06-.94L8.5 2.5l-.94 2.06-2.06.94zm10 10l.94 2.06.94-2.06 2.06-.94-2.06-.94-.94-2.06-.94 2.06-2.06.94z\"/><path d=\"M17.41 7.96l-1.37-1.37c-.4-.4-.92-.59-1.43-.59-.52 0-1.04.2-1.43.59L10.3 9.45l-7.72 7.72c-.78.78-.78 2.05 0 2.83L4 21.41c.39.39.9.59 1.41.59.51 0 1.02-.2 1.41-.59l7.78-7.78 2.81-2.81c.8-.78.8-2.07 0-2.86zM5.41 20L4 18.59l7.72-7.72 1.47 1.35L5.41 20z\"/>\n",
              "  </svg>\n",
              "      </button>\n",
              "\n",
              "\n",
              "\n",
              "    <div id=\"df-45e2676a-42c5-4327-8319-b5bb82eda2d0\">\n",
              "      <button class=\"colab-df-quickchart\" onclick=\"quickchart('df-45e2676a-42c5-4327-8319-b5bb82eda2d0')\"\n",
              "              title=\"Suggest charts.\"\n",
              "              style=\"display:none;\">\n",
              "\n",
              "<svg xmlns=\"http://www.w3.org/2000/svg\" height=\"24px\"viewBox=\"0 0 24 24\"\n",
              "     width=\"24px\">\n",
              "    <g>\n",
              "        <path d=\"M19 3H5c-1.1 0-2 .9-2 2v14c0 1.1.9 2 2 2h14c1.1 0 2-.9 2-2V5c0-1.1-.9-2-2-2zM9 17H7v-7h2v7zm4 0h-2V7h2v10zm4 0h-2v-4h2v4z\"/>\n",
              "    </g>\n",
              "</svg>\n",
              "      </button>\n",
              "    </div>\n",
              "\n",
              "<style>\n",
              "  .colab-df-quickchart {\n",
              "    background-color: #E8F0FE;\n",
              "    border: none;\n",
              "    border-radius: 50%;\n",
              "    cursor: pointer;\n",
              "    display: none;\n",
              "    fill: #1967D2;\n",
              "    height: 32px;\n",
              "    padding: 0 0 0 0;\n",
              "    width: 32px;\n",
              "  }\n",
              "\n",
              "  .colab-df-quickchart:hover {\n",
              "    background-color: #E2EBFA;\n",
              "    box-shadow: 0px 1px 2px rgba(60, 64, 67, 0.3), 0px 1px 3px 1px rgba(60, 64, 67, 0.15);\n",
              "    fill: #174EA6;\n",
              "  }\n",
              "\n",
              "  [theme=dark] .colab-df-quickchart {\n",
              "    background-color: #3B4455;\n",
              "    fill: #D2E3FC;\n",
              "  }\n",
              "\n",
              "  [theme=dark] .colab-df-quickchart:hover {\n",
              "    background-color: #434B5C;\n",
              "    box-shadow: 0px 1px 3px 1px rgba(0, 0, 0, 0.15);\n",
              "    filter: drop-shadow(0px 1px 2px rgba(0, 0, 0, 0.3));\n",
              "    fill: #FFFFFF;\n",
              "  }\n",
              "</style>\n",
              "\n",
              "    <script>\n",
              "      async function quickchart(key) {\n",
              "        const containerElement = document.querySelector('#' + key);\n",
              "        const charts = await google.colab.kernel.invokeFunction(\n",
              "            'suggestCharts', [key], {});\n",
              "      }\n",
              "    </script>\n",
              "\n",
              "      <script>\n",
              "\n",
              "function displayQuickchartButton(domScope) {\n",
              "  let quickchartButtonEl =\n",
              "    domScope.querySelector('#df-45e2676a-42c5-4327-8319-b5bb82eda2d0 button.colab-df-quickchart');\n",
              "  quickchartButtonEl.style.display =\n",
              "    google.colab.kernel.accessAllowed ? 'block' : 'none';\n",
              "}\n",
              "\n",
              "        displayQuickchartButton(document);\n",
              "      </script>\n",
              "      <style>\n",
              "    .colab-df-container {\n",
              "      display:flex;\n",
              "      flex-wrap:wrap;\n",
              "      gap: 12px;\n",
              "    }\n",
              "\n",
              "    .colab-df-convert {\n",
              "      background-color: #E8F0FE;\n",
              "      border: none;\n",
              "      border-radius: 50%;\n",
              "      cursor: pointer;\n",
              "      display: none;\n",
              "      fill: #1967D2;\n",
              "      height: 32px;\n",
              "      padding: 0 0 0 0;\n",
              "      width: 32px;\n",
              "    }\n",
              "\n",
              "    .colab-df-convert:hover {\n",
              "      background-color: #E2EBFA;\n",
              "      box-shadow: 0px 1px 2px rgba(60, 64, 67, 0.3), 0px 1px 3px 1px rgba(60, 64, 67, 0.15);\n",
              "      fill: #174EA6;\n",
              "    }\n",
              "\n",
              "    [theme=dark] .colab-df-convert {\n",
              "      background-color: #3B4455;\n",
              "      fill: #D2E3FC;\n",
              "    }\n",
              "\n",
              "    [theme=dark] .colab-df-convert:hover {\n",
              "      background-color: #434B5C;\n",
              "      box-shadow: 0px 1px 3px 1px rgba(0, 0, 0, 0.15);\n",
              "      filter: drop-shadow(0px 1px 2px rgba(0, 0, 0, 0.3));\n",
              "      fill: #FFFFFF;\n",
              "    }\n",
              "  </style>\n",
              "\n",
              "      <script>\n",
              "        const buttonEl =\n",
              "          document.querySelector('#df-460e7d4c-474a-4b4f-a3ae-310b67a8ed8c button.colab-df-convert');\n",
              "        buttonEl.style.display =\n",
              "          google.colab.kernel.accessAllowed ? 'block' : 'none';\n",
              "\n",
              "        async function convertToInteractive(key) {\n",
              "          const element = document.querySelector('#df-460e7d4c-474a-4b4f-a3ae-310b67a8ed8c');\n",
              "          const dataTable =\n",
              "            await google.colab.kernel.invokeFunction('convertToInteractive',\n",
              "                                                     [key], {});\n",
              "          if (!dataTable) return;\n",
              "\n",
              "          const docLinkHtml = 'Like what you see? Visit the ' +\n",
              "            '<a target=\"_blank\" href=https://colab.research.google.com/notebooks/data_table.ipynb>data table notebook</a>'\n",
              "            + ' to learn more about interactive tables.';\n",
              "          element.innerHTML = '';\n",
              "          dataTable['output_type'] = 'display_data';\n",
              "          await google.colab.output.renderOutput(dataTable, element);\n",
              "          const docLink = document.createElement('div');\n",
              "          docLink.innerHTML = docLinkHtml;\n",
              "          element.appendChild(docLink);\n",
              "        }\n",
              "      </script>\n",
              "    </div>\n",
              "  </div>\n"
            ]
          },
          "metadata": {},
          "execution_count": 115
        }
      ]
    },
    {
      "cell_type": "code",
      "source": [
        "# Replace misspelled words with the correct ones\n",
        "# Replace playstyles that are the same but have different names\n",
        "d2 = df\n",
        "d2['Playstyle'] = d2['Playstyle'].str.replace('vape','vaporize')\n",
        "d2['Playstyle'] = d2['Playstyle'].str.replace('vaporise','vaporize')\n",
        "d2['Playstyle'] = d2['Playstyle'].str.replace('international','national')\n",
        "d2['Playstyle'] = d2['Playstyle'].str.replace('intergrassional','national')\n",
        "d2['Playstyle'] = d2['Playstyle'].str.replace('grassional','national')\n",
        "d2['Playstyle'] = d2['Playstyle'].str.replace('overbugeon','overburgeon')\n",
        "d2['Playstyle'] = d2['Playstyle'].str.replace('overburgeon','hyperburgeon')\n",
        "d2['Playstyle'] = d2['Playstyle'].str.replace('retriburgeon','burgeon')\n",
        "d2['Playstyle'] = d2['Playstyle'].str.replace('vaporizeburgeon','burgeon vaporize')\n",
        "d2['Playstyle'] = d2['Playstyle'].str.replace('vaporizegeon','burgeon vaporize')\n",
        "d2['Playstyle'] = d2['Playstyle'].str.replace('vaporize burgeon','burgeon vaporize')\n",
        "d2['Playstyle'] = d2['Playstyle'].str.replace('overvaporize','overvape')\n",
        "d2['Playstyle'] = d2['Playstyle'].str.replace('melt burn','burn melt')\n",
        "d2['Playstyle'] = d2['Playstyle'].str.replace('taser','electrocharged')\n",
        "d2['Playstyle'] = d2['Playstyle'].str.replace('melt dragonstrike','dragonstrike')\n",
        "d2['Playstyle'] = d2['Playstyle'].str.replace('burning overload','overburn')\n",
        "d2['Playstyle'] = d2['Playstyle'].str.replace('rainbow burgeon','rainbow')\n",
        "d2['Playstyle'] = d2['Playstyle'].str.replace('electrochargedbloom','hyperbloom')\n",
        "d2['Playstyle'] = d2['Playstyle'].str.replace('hyper bloom','hyperbloom')\n",
        "d2['Playstyle'] = d2['Playstyle'].str.replace('rainbow','hyperburgeon')\n",
        "d2['Playstyle'] = d2['Playstyle'].str.replace('hyperbyrgeon','hyperburgeon')\n",
        "d2['Playstyle'] = d2['Playstyle'].str.replace('hyperbugeon','hyperburgeon')\n",
        "d2['Playstyle'] = d2['Playstyle'].str.replace('funerational','national')\n",
        "d2['Playstyle'] = d2['Playstyle'].str.replace('rational','national')\n",
        "d2['Playstyle'] = d2['Playstyle'].str.replace('agrravate','aggravate')\n",
        "d2['Playstyle'] = d2['Playstyle'].str.replace('spread burn','spreadburn')\n",
        "d2['Playstyle'] = d2['Playstyle'].str.replace('spreadbloom','quickbloom')\n",
        "d2['Playstyle'] = d2['Playstyle'].str.replace('burgeon vaporize trio','burgeon vaporize')\n",
        "d2['Playstyle'] = d2['Playstyle'].str.replace('burnvaporize','burn vaporize')\n",
        "# Rainbow is essentially hyperburgeon but for Razor, I think\n",
        "d2['Playstyle'] = d2['Playstyle'].str.replace('reverse',' ')\n",
        "d2['Playstyle'] = d2['Playstyle'].str.strip()"
      ],
      "metadata": {
        "id": "k58R5WYfPWUl"
      },
      "execution_count": null,
      "outputs": []
    },
    {
      "cell_type": "code",
      "source": [
        "d2['Playstyle'].describe()"
      ],
      "metadata": {
        "colab": {
          "base_uri": "https://localhost:8080/"
        },
        "id": "rUHgnFdcMyPF",
        "outputId": "df54bfa2-9666-4902-fe49-cd2623bfa141"
      },
      "execution_count": null,
      "outputs": [
        {
          "output_type": "execute_result",
          "data": {
            "text/plain": [
              "count         4822\n",
              "unique         107\n",
              "top       national\n",
              "freq           685\n",
              "Name: Playstyle, dtype: object"
            ]
          },
          "metadata": {},
          "execution_count": 117
        }
      ]
    },
    {
      "cell_type": "code",
      "source": [
        "d2['Character'].describe()"
      ],
      "metadata": {
        "colab": {
          "base_uri": "https://localhost:8080/"
        },
        "id": "kk56MDB7G2Qd",
        "outputId": "b0c8cf4a-422e-483f-f9e7-db5639c8607d"
      },
      "execution_count": null,
      "outputs": [
        {
          "output_type": "execute_result",
          "data": {
            "text/plain": [
              "count      5825\n",
              "unique       70\n",
              "top       Ayaka\n",
              "freq        395\n",
              "Name: Character, dtype: object"
            ]
          },
          "metadata": {},
          "execution_count": 118
        }
      ]
    },
    {
      "cell_type": "code",
      "source": [
        "# Match names\n",
        "d2['Character'] = d2['Character'].str.replace('Itto','Arataki Itto')\n",
        "d2['Character'] = d2['Character'].str.replace('Childe','Tartaglia')\n",
        "d2['Character'] = d2['Character'].str.replace('Kazuha','Kaedehara Kazuha')\n",
        "d2['Character'] = d2['Character'].str.replace('Ayaka','Kamisato Ayaka')\n",
        "d2['Character'] = d2['Character'].str.replace('Ayato','Kamisato Ayato')\n",
        "d2['Character'] = d2['Character'].str.replace('Sara','Kujou Sara')\n",
        "d2['Character'] = d2['Character'].str.replace('Kuki','Kuki Shinobu')\n",
        "d2['Character'] = d2['Character'].str.replace('Raiden','Raiden Shogun')\n",
        "d2['Character'] = d2['Character'].str.replace('Kokomi','Sangonomiya Kokomi')\n",
        "d2['Character'] = d2['Character'].str.replace('Heizou','Shikanoin Heizou')\n",
        "d2['Character'] = d2['Character'].str.replace('Mc','Traveler')\n",
        "d2['Character'] = d2['Character'].str.replace('Scaramouche','Wanderer')\n",
        "d2['Character'] = d2['Character'].str.replace('Yae','Yae Miko')\n",
        "d2['Character'] = d2['Character'].str.replace('Yunjin','Yun Jin')\n",
        "d2['Character'].describe()"
      ],
      "metadata": {
        "colab": {
          "base_uri": "https://localhost:8080/"
        },
        "id": "NPX2Y7whGd2w",
        "outputId": "a76b8aa3-c67d-49f3-ff15-abaf9f46ddd9"
      },
      "execution_count": null,
      "outputs": [
        {
          "output_type": "execute_result",
          "data": {
            "text/plain": [
              "count               5825\n",
              "unique                67\n",
              "top       Kamisato Ayaka\n",
              "freq                 395\n",
              "Name: Character, dtype: object"
            ]
          },
          "metadata": {},
          "execution_count": 120
        }
      ]
    },
    {
      "cell_type": "code",
      "source": [
        "save_filename = '/content/drive/MyDrive/Genshin Data Project/genshin_data_V3_7.csv'\n",
        "d2.to_csv(save_filename, index=False)"
      ],
      "metadata": {
        "id": "Kej5fRk4N33a"
      },
      "execution_count": null,
      "outputs": []
    }
  ]
}